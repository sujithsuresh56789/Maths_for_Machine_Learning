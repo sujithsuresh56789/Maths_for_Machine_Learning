{
  "nbformat": 4,
  "nbformat_minor": 0,
  "metadata": {
    "colab": {
      "provenance": [],
      "authorship_tag": "ABX9TyP16MNhSl8GC0QNoZ3BR6Qo",
      "include_colab_link": true
    },
    "kernelspec": {
      "name": "python3",
      "display_name": "Python 3"
    },
    "language_info": {
      "name": "python"
    }
  },
  "cells": [
    {
      "cell_type": "markdown",
      "metadata": {
        "id": "view-in-github",
        "colab_type": "text"
      },
      "source": [
        "<a href=\"https://colab.research.google.com/github/sujithsuresh56789/Week_8_Maths_for_Machine_Learning_Brototype/blob/main/Mathsformachinelearning.ipynb\" target=\"_parent\"><img src=\"https://colab.research.google.com/assets/colab-badge.svg\" alt=\"Open In Colab\"/></a>"
      ]
    },
    {
      "cell_type": "code",
      "execution_count": null,
      "metadata": {
        "colab": {
          "base_uri": "https://localhost:8080/"
        },
        "id": "8Mzl_KIwLELU",
        "outputId": "62aae598-6d55-4928-e821-d3d6552a69bf"
      },
      "outputs": [
        {
          "output_type": "execute_result",
          "data": {
            "text/plain": [
              "11"
            ]
          },
          "metadata": {},
          "execution_count": 1
        }
      ],
      "source": [
        "#Linear equation\n",
        "#y=2x+3\n",
        "def linear(x):\n",
        "  #y=mx+b\n",
        "  m=2\n",
        "  b=2\n",
        "  y=2*x+3\n",
        "  return y\n",
        "\n",
        "linear(4)\n"
      ]
    },
    {
      "cell_type": "code",
      "source": [
        "#matrix multipilication\n",
        "def multiply(mat1,mat2):\n",
        "  if len(mat1[0])!=len(mat2):\n",
        "    return False\n",
        "  else:\n",
        "    result=[]\n",
        "    for i in range(len(mat1)):\n",
        "      temp=[]\n",
        "      for j in range(len(mat2[0])):\n",
        "        sum=0\n",
        "        for k in range(len(mat1[0])):\n",
        "          sum+=mat1[i][k]*mat2[k][j]\n",
        "        temp.append(sum)\n",
        "      result.append(temp)\n",
        "    return result\n",
        "\n",
        "mat1=[[2,3],[4,6]]\n",
        "mat2=[[3,4,5],[5,8,10]]\n",
        "multiply(mat1,mat2)"
      ],
      "metadata": {
        "colab": {
          "base_uri": "https://localhost:8080/"
        },
        "id": "sl394QcCorYc",
        "outputId": "696be095-7901-4852-80a6-77f20456749d"
      },
      "execution_count": null,
      "outputs": [
        {
          "output_type": "execute_result",
          "data": {
            "text/plain": [
              "[[21, 32, 40], [42, 64, 80]]"
            ]
          },
          "metadata": {},
          "execution_count": 2
        }
      ]
    },
    {
      "cell_type": "code",
      "source": [
        "#matrix addition\n",
        "def addition(mat1,mat2):\n",
        "  if len(mat1)!=len(mat2) or len(mat1[0])!=len(mat2[0]):\n",
        "    return False\n",
        "  else:\n",
        "    mymat=[]\n",
        "    for i in range(len(mat1)):\n",
        "      temp=[]\n",
        "      for j in range(len(mat1[0])):\n",
        "        temp.append(mat1[i][j]+mat2[i][j])\n",
        "      mymat.append(temp)\n",
        "  return mymat\n",
        "\n",
        "mat1=[[1,0],[2,1]]\n",
        "mat2=[[3,4],[6,8]]\n",
        "addition(mat1,mat2)"
      ],
      "metadata": {
        "id": "kQjLJpm0vYOT",
        "colab": {
          "base_uri": "https://localhost:8080/"
        },
        "outputId": "31299b74-e0a8-488e-bec1-fffc9523830a"
      },
      "execution_count": null,
      "outputs": [
        {
          "output_type": "execute_result",
          "data": {
            "text/plain": [
              "[[4, 4], [8, 9]]"
            ]
          },
          "metadata": {},
          "execution_count": 3
        }
      ]
    },
    {
      "cell_type": "code",
      "source": [
        "#matrix substraction\n",
        "def substraction(mat1,mat2):\n",
        "  if len(mat1)!=len(mat2) or len(mat1[0])!=len(mat2[0]):\n",
        "    return False\n",
        "  else:\n",
        "    mymat=[]\n",
        "    for i in range(len(mat1)):\n",
        "      temp=[]\n",
        "      for j in range(len(mat1[0])):\n",
        "        temp.append(mat1[i][j]-mat2[i][j])\n",
        "      mymat.append(temp)\n",
        "\n",
        "  return mymat\n",
        "\n",
        "mat1=[[1,0],[2,1]]\n",
        "mat2=[[3,4],[6,8]]\n",
        "substraction(mat1,mat2)"
      ],
      "metadata": {
        "colab": {
          "base_uri": "https://localhost:8080/"
        },
        "id": "Bbz--yuZumaA",
        "outputId": "a9f9631f-fc84-4a90-eaf0-40663977d99f"
      },
      "execution_count": null,
      "outputs": [
        {
          "output_type": "execute_result",
          "data": {
            "text/plain": [
              "[[-2, -4], [-4, -7]]"
            ]
          },
          "metadata": {},
          "execution_count": 7
        }
      ]
    },
    {
      "cell_type": "code",
      "source": [
        "#scalar multiplication\n",
        "def scalar_multiplication(mat1,multiple):\n",
        "  mymat=[]\n",
        "  for i in range(len(mat1)):\n",
        "    temp=[]\n",
        "    for j in range(len(mat1[0])):\n",
        "      temp.append(mat1[i][j]*multiple)\n",
        "    mymat.append(temp)\n",
        "\n",
        "  return mymat\n",
        "\n",
        "mat1=[[4,8],[1,-5]]\n",
        "scalar_multiplication(mat1,5)"
      ],
      "metadata": {
        "colab": {
          "base_uri": "https://localhost:8080/"
        },
        "id": "Qp2_s9qDvZHH",
        "outputId": "7fb764de-cef8-47ea-8967-c4a36b7750de"
      },
      "execution_count": null,
      "outputs": [
        {
          "output_type": "execute_result",
          "data": {
            "text/plain": [
              "[[20, 40], [5, -25]]"
            ]
          },
          "metadata": {},
          "execution_count": 9
        }
      ]
    },
    {
      "cell_type": "code",
      "source": [
        "#scalara multiplication 5A+6B\n",
        "def scalar(A,B,coA,coB):\n",
        "  mymat=[]\n",
        "  for i in range(len(A)):\n",
        "    temp=[]\n",
        "    for j in range(len(A[0])):\n",
        "      temp.append(A[i][j]*coA+B[i][j]*coB)\n",
        "    mymat.append(temp)\n",
        "  return mymat\n",
        "\n",
        "A=[[3,5],[1,7]]\n",
        "B=[[5,9],[-7,1]]\n",
        "scalar(A,B,5,6)\n"
      ],
      "metadata": {
        "colab": {
          "base_uri": "https://localhost:8080/"
        },
        "id": "qiH1Hkmtw1aK",
        "outputId": "1c2046e8-20f3-4ca4-86fe-0848e3ec557c"
      },
      "execution_count": null,
      "outputs": [
        {
          "output_type": "execute_result",
          "data": {
            "text/plain": [
              "[[45, 79], [-37, 41]]"
            ]
          },
          "metadata": {},
          "execution_count": 12
        }
      ]
    },
    {
      "cell_type": "code",
      "source": [
        "rows=int(input(\"enter the rows\"))\n",
        "col=int(input(\"enter the columns\"))\n",
        "mat3=[int(input()) for i in range(rows)for j in range(col)]\n",
        "mat3"
      ],
      "metadata": {
        "colab": {
          "base_uri": "https://localhost:8080/"
        },
        "id": "fuwN-V5n1vSe",
        "outputId": "eeb91d18-5431-414b-eae9-17cb47865828"
      },
      "execution_count": null,
      "outputs": [
        {
          "name": "stdout",
          "output_type": "stream",
          "text": [
            "enter the rows2\n",
            "enter the columns2\n",
            "4\n",
            "3\n",
            "2\n",
            "1\n"
          ]
        },
        {
          "output_type": "execute_result",
          "data": {
            "text/plain": [
              "[4, 3, 2, 1]"
            ]
          },
          "metadata": {},
          "execution_count": 3
        }
      ]
    },
    {
      "cell_type": "code",
      "source": [
        "#matrix addition\n",
        "def addition(mat1,mat2):\n",
        "  if len(mat1)!=len(mat2) or len(mat1[0])!=len(mat2[0]):\n",
        "    return False\n",
        "  else:\n",
        "    result=[]\n",
        "    for i in range(len(mat1)):\n",
        "      temp=[]\n",
        "      for j in range(len(mat1[0])):\n",
        "        temp.append(mat1[i][j]+mat2[i][j])\n",
        "      result.append(temp)\n",
        "    return result\n",
        "\n",
        "mat1=[[4,5],[6,8]]\n",
        "mat2=[[3,5],[5,6]]\n",
        "addition(mat1,mat2)"
      ],
      "metadata": {
        "colab": {
          "base_uri": "https://localhost:8080/"
        },
        "id": "PcmIhxzwRxlH",
        "outputId": "1a7b2b7a-0b73-4d28-ad61-06db74d2a7a4"
      },
      "execution_count": null,
      "outputs": [
        {
          "output_type": "execute_result",
          "data": {
            "text/plain": [
              "[[7, 10], [11, 14]]"
            ]
          },
          "metadata": {},
          "execution_count": 4
        }
      ]
    },
    {
      "cell_type": "code",
      "source": [
        "#matrix multiplication\n",
        "def multiply(mat1,mat2):\n",
        "  if len(mat1[0])!=len(mat2):\n",
        "    return False\n",
        "  else:\n",
        "    result=[]\n",
        "    for i in range(len(mat1)):\n",
        "      temp=[]\n",
        "      for j in range(len(mat2[0])):\n",
        "        sum=0\n",
        "        for k in range(len(mat1[0])):\n",
        "          sum+=mat1[i][k]*mat2[k][j]\n",
        "        temp.append(sum)\n",
        "      result.append(temp)\n",
        "    return result\n",
        "\n",
        "\n",
        "mat1=[[1,4],[4,6]]\n",
        "mat2=[[4,2,8],[5,2,9]]\n",
        "multiply(mat1,mat2)\n",
        "\n",
        "\n"
      ],
      "metadata": {
        "colab": {
          "base_uri": "https://localhost:8080/"
        },
        "id": "WC6FJapxXw3A",
        "outputId": "2ab6a53d-eebd-415e-cc2b-0e02f1fdc946"
      },
      "execution_count": null,
      "outputs": [
        {
          "output_type": "execute_result",
          "data": {
            "text/plain": [
              "[[24, 10, 44], [46, 20, 86]]"
            ]
          },
          "metadata": {},
          "execution_count": 9
        }
      ]
    },
    {
      "cell_type": "code",
      "source": [
        "#transpose\n",
        "def transpose(mat):\n",
        "  result=[]\n",
        "  for i in range(len(mat[0])):\n",
        "    temp=[]\n",
        "    for j in range(len(mat)):\n",
        "      temp.append(mat[j][i])\n",
        "    result.append(temp)\n",
        "  return result\n",
        "\n",
        "mat=[[1,2,3],[4,5,6]]\n",
        "transpose(mat)"
      ],
      "metadata": {
        "colab": {
          "base_uri": "https://localhost:8080/"
        },
        "id": "fJSwpI5bap0-",
        "outputId": "b1c74e03-0916-4241-be1a-b6579899cd85"
      },
      "execution_count": null,
      "outputs": [
        {
          "output_type": "execute_result",
          "data": {
            "text/plain": [
              "[[1, 4], [2, 5], [3, 6]]"
            ]
          },
          "metadata": {},
          "execution_count": 10
        }
      ]
    },
    {
      "cell_type": "code",
      "source": [
        "def check(mat1,mat2):\n",
        "  return mat1==mat2\n",
        "\n",
        "mat1=[[1,2],[4,5]]\n",
        "mat2=[[1,2],[4,5]]\n",
        "check(mat1,mat2)"
      ],
      "metadata": {
        "colab": {
          "base_uri": "https://localhost:8080/"
        },
        "id": "sYITuO6DgiIT",
        "outputId": "7e4d88d2-e19e-4473-f8fa-a9100cc972e9"
      },
      "execution_count": null,
      "outputs": [
        {
          "output_type": "execute_result",
          "data": {
            "text/plain": [
              "True"
            ]
          },
          "metadata": {},
          "execution_count": 11
        }
      ]
    },
    {
      "cell_type": "code",
      "source": [
        "#determinant\n",
        "def determinant2x2(mat):\n",
        "  # if len(mat)==len(mat[0])==2:\n",
        "    return mat[0][0]*mat[1][1]-mat[0][1]*mat[1][0]\n",
        "  # if len(mat)==len(mat[0])==3:\n",
        "def submatrix(matrix, i, j):\n",
        "    return [row[:j] + row[j+1:] for row in (matrix[:i]+matrix[i+1:])]\n",
        "def determinant3x3(mat):\n",
        "  det=0\n",
        "  for i in range(3):\n",
        "    det+=(-1)**i*mat[0][i]*determinant2x2(submatrix(mat,0,i))\n",
        "  return det\n",
        "\n",
        "\n",
        "mat=[[1,2,3],[5,3,7],[6,1,3]]\n",
        "determinant3x3(mat)\n",
        "\n",
        "\n",
        "\n"
      ],
      "metadata": {
        "id": "shjd_c9vkwPg",
        "colab": {
          "base_uri": "https://localhost:8080/"
        },
        "outputId": "55b4d808-04ba-4eba-ad3c-74b78e8a929b"
      },
      "execution_count": null,
      "outputs": [
        {
          "output_type": "execute_result",
          "data": {
            "text/plain": [
              "17"
            ]
          },
          "metadata": {},
          "execution_count": 2
        }
      ]
    },
    {
      "cell_type": "code",
      "source": [
        "def inverse2X2(mat):\n",
        "  def determinant(mat):\n",
        "    return mat[0][0]*mat[1][1]-mat[0][1]*mat[1][0]\n",
        "  if determinant(mat)==0:\n",
        "    return False\n",
        "  else:\n",
        "    def adjoint(mat):\n",
        "      result=[]\n",
        "      for i in range(len(mat)):\n",
        "        temp=[]\n",
        "        for j in range(len(mat[0])):\n",
        "          if (i+j)%2!=0:\n",
        "            temp.append(-1*mat[i][j])\n",
        "          if (i+j)%2==0:\n",
        "            temp.append(mat[1-i][1-j])\n",
        "        result.append(temp)\n",
        "      return result\n",
        "\n",
        "    inverse=[]\n",
        "    for i in range(len(mat)):\n",
        "      temp=[]\n",
        "      for j in range(len(mat[0])):\n",
        "        temp.append((1/determinant(mat))*mat[i][j])\n",
        "      inverse.append(temp)\n",
        "    return inverse\n",
        "\n",
        "mat=[[3,2],[3,4]]\n",
        "inverse2X2(mat)"
      ],
      "metadata": {
        "colab": {
          "base_uri": "https://localhost:8080/"
        },
        "id": "HqC9fGDl09cc",
        "outputId": "0aadacb8-ebf0-4105-d8b4-7e04bfd3c552"
      },
      "execution_count": null,
      "outputs": [
        {
          "output_type": "execute_result",
          "data": {
            "text/plain": [
              "[[0.5, 0.3333333333333333], [0.5, 0.6666666666666666]]"
            ]
          },
          "metadata": {},
          "execution_count": 17
        }
      ]
    },
    {
      "cell_type": "code",
      "source": [
        "def adjoint(mat):\n",
        "      result=[]\n",
        "      for i in range(len(mat)):\n",
        "        temp=[]\n",
        "        for j in range(len(mat[0])):\n",
        "          #sign=1\n",
        "          if (i+j)%2!=0:\n",
        "            #sign=-1\n",
        "            temp.append(-1*mat[i][j])\n",
        "          if (i+j)%2==0:\n",
        "            #i=1-i\n",
        "            #j=1-j\n",
        "            temp.append(mat[1-i][1-j])\n",
        "        result.append(temp)\n",
        "      return result\n",
        "\n",
        "mat=[[3,2],[3,4]]\n",
        "adjoint(mat)"
      ],
      "metadata": {
        "colab": {
          "base_uri": "https://localhost:8080/"
        },
        "id": "X0gFsAkWpObr",
        "outputId": "63b87688-591b-48fa-9003-4873a36f7a1a"
      },
      "execution_count": null,
      "outputs": [
        {
          "output_type": "execute_result",
          "data": {
            "text/plain": [
              "[[4, -2], [-3, 3]]"
            ]
          },
          "metadata": {},
          "execution_count": 7
        }
      ]
    },
    {
      "cell_type": "code",
      "source": [
        "def determinant(mat):\n",
        "    return mat[0][0]*mat[1][1]-mat[0][1]*mat[1][0]\n",
        "\n",
        "mat=[[3,2],[3,4]]\n",
        "determinant(mat)"
      ],
      "metadata": {
        "colab": {
          "base_uri": "https://localhost:8080/"
        },
        "id": "sO9-WIWJpdXB",
        "outputId": "9c99dfb7-b5c8-4ef4-e7cc-8032c99a9c6e"
      },
      "execution_count": null,
      "outputs": [
        {
          "output_type": "execute_result",
          "data": {
            "text/plain": [
              "6"
            ]
          },
          "metadata": {},
          "execution_count": 14
        }
      ]
    },
    {
      "cell_type": "code",
      "source": [
        " def determinant3x3(mat):\n",
        "  def determinant2x2(mat):\n",
        "    return mat[0][0]*mat[1][1]-mat[0][1]*mat[1][0]\n",
        "\n",
        "  def submatrix(mat,i,j):\n",
        "    result=[]\n",
        "    for x in range(len(mat)):\n",
        "      if x!=i:\n",
        "        temp=[]\n",
        "        for y in range(len(mat[0])):\n",
        "          if y!=j:\n",
        "            temp.append(mat[x][y])\n",
        "        result.append(temp)\n",
        "    return result\n",
        "\n",
        "  det=0\n",
        "  for i in range(len(mat)):\n",
        "    det+=(-1**i)*mat[0][i]*determinant2x2(submatrix(mat,0,i))\n",
        "  return det\n",
        "\n",
        "mat=[[1,4,5],[8,4,1],[2,6,10]]\n",
        "determinant3x3(mat)"
      ],
      "metadata": {
        "colab": {
          "base_uri": "https://localhost:8080/"
        },
        "id": "fToNslwguSWF",
        "outputId": "a5b699c5-11c9-4a3d-d233-48eb8d059c4b"
      },
      "execution_count": null,
      "outputs": [
        {
          "output_type": "execute_result",
          "data": {
            "text/plain": [
              "-546"
            ]
          },
          "metadata": {},
          "execution_count": 18
        }
      ]
    },
    {
      "cell_type": "code",
      "source": [
        "def inverse3x3(mat):\n",
        "\n",
        "  def determinant2x2(mat):\n",
        "    return mat[0][0]*mat[1][1]-mat[0][1]*mat[1][0]\n",
        "\n",
        "  def determinant3x3(mat):\n",
        "    det=0\n",
        "    for i in range(len(mat)):\n",
        "      det+=(-1**i)*mat[0][i]*determinant2x2(submatrix(mat,0,i))\n",
        "    return det\n",
        "\n",
        "  def submatrix(mat,i,j):\n",
        "    result=[]\n",
        "    for x in range(len(mat)):\n",
        "      if x!=i:\n",
        "        temp=[]\n",
        "        for y in range(len(mat[0])):\n",
        "          if y!=j:\n",
        "            temp.append(mat[x][y])\n",
        "        result.append(temp)\n",
        "    return result\n",
        "\n",
        "  def transpose(mat):\n",
        "    result=[]\n",
        "    for i in range(len(mat[0])):\n",
        "      temp=[]\n",
        "      for j in range(len(mat)):\n",
        "        temp.append(mat[j][i])\n",
        "      result.append(temp)\n",
        "    return result\n",
        "\n",
        "  def cofactor(mat):\n",
        "    matrix=[]\n",
        "    for i in range(len(mat)):\n",
        "      temp=[]\n",
        "      for j in range(len(mat[0])):\n",
        "        temp.append(-1**(i+j)*determinant2x2(submatrix(mat,i,j)))\n",
        "      matrix.append(temp)\n",
        "    return matrix\n",
        "\n",
        "\n",
        "  def adjoint(mat):\n",
        "    return transpose(cofactor(mat))\n",
        "\n",
        "  matrix=adjoint(mat)\n",
        "  inverse=[]\n",
        "  for i in range(len(mat)):\n",
        "    temp=[]\n",
        "    for j in range(len(mat[0])):\n",
        "      temp.append((1/determinant3x3(mat))*matrix[i][j])\n",
        "    inverse.append(temp)\n",
        "  return inverse\n",
        "\n",
        "mat=[[3,1,2],[4,2,1],[5,8,9]]\n",
        "inverse3x3(mat)\n",
        "\n",
        "\n"
      ],
      "metadata": {
        "colab": {
          "base_uri": "https://localhost:8080/"
        },
        "id": "-83bDXyb23h2",
        "outputId": "13ba7731-2d86-426d-c149-b369a62f0966"
      },
      "execution_count": null,
      "outputs": [
        {
          "output_type": "execute_result",
          "data": {
            "text/plain": [
              "[[0.09523809523809525, -0.06666666666666668, -0.028571428571428574],\n",
              " [0.29523809523809524, 0.1619047619047619, -0.04761904761904762],\n",
              " [0.20952380952380956, 0.18095238095238098, 0.01904761904761905]]"
            ]
          },
          "metadata": {},
          "execution_count": 19
        }
      ]
    },
    {
      "cell_type": "code",
      "source": [
        "def vectoraddition(vect1,vect2):\n",
        "  for i in range(len(vect1)):\n",
        "    vect1[i]=vect1[i]+vect2[i]\n",
        "  return vect1\n",
        "\n",
        "vect1=[1,2,3]\n",
        "vect2=[4,5,6]\n",
        "vectoraddition(vect1,vect2)\n"
      ],
      "metadata": {
        "colab": {
          "base_uri": "https://localhost:8080/"
        },
        "id": "pAT2JfiI7XHc",
        "outputId": "71004cf6-0147-47a7-f3c9-e8aa212c60c9"
      },
      "execution_count": null,
      "outputs": [
        {
          "output_type": "execute_result",
          "data": {
            "text/plain": [
              "[5, 7, 9]"
            ]
          },
          "metadata": {},
          "execution_count": 20
        }
      ]
    },
    {
      "cell_type": "code",
      "source": [
        "def dotproduct(vect1,vect2):\n",
        "  return sum([vect1[i]*vect2[i] for i in range(len(vect1))])\n",
        "\n",
        "vect1=[1,2,3]\n",
        "vect2=[4,5,6]\n",
        "dotproduct(vect1,vect2)"
      ],
      "metadata": {
        "colab": {
          "base_uri": "https://localhost:8080/"
        },
        "id": "rhjxFtA7jm2O",
        "outputId": "717cf3a5-8c70-407d-9b08-338973c5aca0"
      },
      "execution_count": null,
      "outputs": [
        {
          "output_type": "execute_result",
          "data": {
            "text/plain": [
              "32"
            ]
          },
          "metadata": {},
          "execution_count": 24
        }
      ]
    },
    {
      "cell_type": "code",
      "source": [
        "#mean\n",
        "def mean(mylist):\n",
        "  return sum(mylist)/len(mylist)\n",
        "\n",
        "mylist=[1,2,3,4,5,6,7,8]\n",
        "mean(mylist)\n"
      ],
      "metadata": {
        "colab": {
          "base_uri": "https://localhost:8080/"
        },
        "id": "18P5OkZ_rDLf",
        "outputId": "f76ee364-34e8-400b-e48a-5c271d81943d"
      },
      "execution_count": null,
      "outputs": [
        {
          "output_type": "execute_result",
          "data": {
            "text/plain": [
              "4.5"
            ]
          },
          "metadata": {},
          "execution_count": 1
        }
      ]
    },
    {
      "cell_type": "code",
      "source": [
        "#variance\n",
        "data=[85, 90, 78, 92, 88]\n",
        "def variance(data):\n",
        "  mean=sum(data)/len(data)\n",
        "  temp=[(mean-x)**2 for x in data]\n",
        "  return sum(temp)/len(temp)\n",
        "\n",
        "variance(data)"
      ],
      "metadata": {
        "colab": {
          "base_uri": "https://localhost:8080/"
        },
        "id": "n-Ubsn4VT5jJ",
        "outputId": "01aee5fe-b232-4bca-b9bd-a8a1485e8089"
      },
      "execution_count": null,
      "outputs": [
        {
          "output_type": "execute_result",
          "data": {
            "text/plain": [
              "23.84"
            ]
          },
          "metadata": {},
          "execution_count": 5
        }
      ]
    },
    {
      "cell_type": "code",
      "source": [
        "#standard deviation\n",
        "def deviation(data):\n",
        "  mean=sum(data)/len(data)\n",
        "  return (sum([(mean-x)**2 for x in data])/len(data))**0.5\n",
        "  #return variance(data)**0.5\n",
        "\n",
        "\n",
        "deviation(data)"
      ],
      "metadata": {
        "colab": {
          "base_uri": "https://localhost:8080/"
        },
        "id": "mxEShuLdVo2R",
        "outputId": "f6d9bd0a-3e97-487a-8358-0318ec4b9eb5"
      },
      "execution_count": null,
      "outputs": [
        {
          "output_type": "execute_result",
          "data": {
            "text/plain": [
              "4.882622246293481"
            ]
          },
          "metadata": {},
          "execution_count": 7
        }
      ]
    },
    {
      "cell_type": "code",
      "source": [
        "#covarience\n",
        "def covarience(x,y):\n",
        "  if len(x)==len(y):\n",
        "    mean_x=sum(x)/len(x)\n",
        "    mean_y=sum(y)/len(y)\n",
        "    return sum([(mean_x-x[i])*(mean_y-y[i]) for i in range(len(x))])/len(x)\n",
        "\n",
        "\n",
        "x = [1, 2, 3, 4, 5]\n",
        "y = [2, 3, 4, 5, 6]\n",
        "covarience(x,y)"
      ],
      "metadata": {
        "colab": {
          "base_uri": "https://localhost:8080/"
        },
        "id": "t3h_cHGiayYs",
        "outputId": "4d002f54-f4be-47e0-cb4a-3ea8dcb29311"
      },
      "execution_count": null,
      "outputs": [
        {
          "output_type": "execute_result",
          "data": {
            "text/plain": [
              "2.0"
            ]
          },
          "metadata": {},
          "execution_count": 22
        }
      ]
    },
    {
      "cell_type": "code",
      "source": [
        "#correlation\n",
        "def correlation(x,y):\n",
        "  if len(x)==len(y):\n",
        "    return covarience(x,y)/(deviation(x)*deviation(y))\n",
        "\n",
        "\n",
        "x = [1, 2, 3, 4, 5]\n",
        "y = [2, 3, 4, 5, 6]\n",
        "correlation(x,y)"
      ],
      "metadata": {
        "colab": {
          "base_uri": "https://localhost:8080/"
        },
        "id": "HbLUGJfWfY_c",
        "outputId": "5436d24a-50c5-4836-8c5d-a71efbf4ea2b"
      },
      "execution_count": null,
      "outputs": [
        {
          "output_type": "execute_result",
          "data": {
            "text/plain": [
              "0.9999999999999998"
            ]
          },
          "metadata": {},
          "execution_count": 24
        }
      ]
    },
    {
      "cell_type": "code",
      "source": [
        "#median\n",
        "def median(mylist):\n",
        "  mylist.sort()\n",
        "  if len(mylist)%2!=0:\n",
        "    return mylist[len(mylist)//2]\n",
        "  else:\n",
        "    return (mylist[len(mylist)//2]+mylist[len(mylist)//2-1])/2\n",
        "\n",
        "\n",
        "mylist=[2,1,8,4,5,6]\n",
        "median(mylist)\n",
        "\n",
        "\n"
      ],
      "metadata": {
        "id": "UybRkAnp1s-R",
        "colab": {
          "base_uri": "https://localhost:8080/"
        },
        "outputId": "132be081-f4b6-49d6-c463-543d78228cf7"
      },
      "execution_count": null,
      "outputs": [
        {
          "output_type": "execute_result",
          "data": {
            "text/plain": [
              "4.5"
            ]
          },
          "metadata": {},
          "execution_count": 7
        }
      ]
    },
    {
      "cell_type": "code",
      "source": [
        "#mode\n",
        "def mode(items):\n",
        "  counts = dict()\n",
        "  for i in items:\n",
        "    counts[i] = counts.get(i, 0) + 1\n",
        "  maxval=max([x for x in counts.values()])\n",
        "  for x,y in counts.items():\n",
        "    if y==maxval:\n",
        "      return x\n",
        "\n",
        "numbers = [1, 2, 3, 2, 4, 2, 5]\n",
        "mode(numbers)"
      ],
      "metadata": {
        "colab": {
          "base_uri": "https://localhost:8080/"
        },
        "id": "FvHCuss_MxLn",
        "outputId": "3fa4702d-703a-49e7-c19e-f5bfc4dbabab"
      },
      "execution_count": null,
      "outputs": [
        {
          "output_type": "execute_result",
          "data": {
            "text/plain": [
              "2"
            ]
          },
          "metadata": {},
          "execution_count": 17
        }
      ]
    },
    {
      "cell_type": "code",
      "source": [
        "def multiply(mat1,mat2):\n",
        "  if len(mat1[0])!=len(mat2):\n",
        "    return False\n",
        "  else:\n",
        "    result=[]\n",
        "    for i in range(len(mat1)):\n",
        "      temp=[]\n",
        "      for j in range(len(mat2[0])):\n",
        "        sum=0\n",
        "        for k in range(len(mat1[0])):\n",
        "          sum+=mat1[i][k]*mat2[k][j]\n",
        "        temp.append(sum)\n",
        "      result.append(temp)\n",
        "  return result\n",
        "\n",
        "mat1=[[1,2],[3,4]]\n",
        "mat2=[[5,6],[7,8]]\n",
        "multiply(mat1,mat2)"
      ],
      "metadata": {
        "id": "90xNnuk-M5a1",
        "colab": {
          "base_uri": "https://localhost:8080/"
        },
        "outputId": "be3219dd-4b0b-45e3-ed7b-1d658b607c3a"
      },
      "execution_count": null,
      "outputs": [
        {
          "output_type": "execute_result",
          "data": {
            "text/plain": [
              "[[19, 22], [43, 50]]"
            ]
          },
          "metadata": {},
          "execution_count": 1
        }
      ]
    },
    {
      "cell_type": "code",
      "source": [],
      "metadata": {
        "id": "QT0o8q794d_j"
      },
      "execution_count": null,
      "outputs": []
    }
  ]
}